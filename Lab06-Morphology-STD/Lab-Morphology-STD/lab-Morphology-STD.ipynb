{
 "cells": [
  {
   "cell_type": "code",
   "execution_count": 1,
   "metadata": {},
   "outputs": [
    {
     "data": {
      "text/plain": [
       "\"\\nLab N\\nMorphology\\n\\nSkimage morphology operators' documentation:\\nhttps://scikit-image.org/docs/dev/api/skimage.morphology.html\\n\""
      ]
     },
     "execution_count": 1,
     "metadata": {},
     "output_type": "execute_result"
    }
   ],
   "source": [
    "'''\n",
    "Lab N\n",
    "Morphology\n",
    "\n",
    "Skimage morphology operators' documentation:\n",
    "https://scikit-image.org/docs/dev/api/skimage.morphology.html\n",
    "'''"
   ]
  },
  {
   "cell_type": "code",
   "execution_count": 1,
   "metadata": {},
   "outputs": [
    {
     "output_type": "error",
     "ename": "ModuleNotFoundError",
     "evalue": "No module named 'commonfunctions'",
     "traceback": [
      "\u001b[1;31m---------------------------------------------------------------------------\u001b[0m",
      "\u001b[1;31mModuleNotFoundError\u001b[0m                       Traceback (most recent call last)",
      "\u001b[1;32m<ipython-input-1-23378e17e72b>\u001b[0m in \u001b[0;36m<module>\u001b[1;34m\u001b[0m\n\u001b[1;32m----> 1\u001b[1;33m \u001b[1;32mfrom\u001b[0m \u001b[0mcommonfunctions\u001b[0m \u001b[1;32mimport\u001b[0m \u001b[1;33m*\u001b[0m\u001b[1;33m\u001b[0m\u001b[1;33m\u001b[0m\u001b[0m\n\u001b[0m\u001b[0;32m      2\u001b[0m \u001b[1;32mimport\u001b[0m \u001b[0mnumpy\u001b[0m \u001b[1;32mas\u001b[0m \u001b[0mnp\u001b[0m\u001b[1;33m\u001b[0m\u001b[1;33m\u001b[0m\u001b[0m\n\u001b[0;32m      3\u001b[0m \u001b[1;32mimport\u001b[0m \u001b[0mskimage\u001b[0m\u001b[1;33m.\u001b[0m\u001b[0mio\u001b[0m \u001b[1;32mas\u001b[0m \u001b[0mio\u001b[0m\u001b[1;33m\u001b[0m\u001b[1;33m\u001b[0m\u001b[0m\n\u001b[0;32m      4\u001b[0m \u001b[1;32mimport\u001b[0m \u001b[0mmatplotlib\u001b[0m\u001b[1;33m.\u001b[0m\u001b[0mpyplot\u001b[0m \u001b[1;32mas\u001b[0m \u001b[0mplt\u001b[0m\u001b[1;33m\u001b[0m\u001b[1;33m\u001b[0m\u001b[0m\n\u001b[0;32m      5\u001b[0m \u001b[1;32mfrom\u001b[0m \u001b[0mskimage\u001b[0m\u001b[1;33m.\u001b[0m\u001b[0mcolor\u001b[0m \u001b[1;32mimport\u001b[0m \u001b[0mrgb2gray\u001b[0m\u001b[1;33m\u001b[0m\u001b[1;33m\u001b[0m\u001b[0m\n",
      "\u001b[1;31mModuleNotFoundError\u001b[0m: No module named 'commonfunctions'"
     ]
    }
   ],
   "source": [
    "from commonfunctions import *\n",
    "import numpy as np\n",
    "import skimage.io as io\n",
    "import matplotlib.pyplot as plt\n",
    "from skimage.color import rgb2gray\n",
    "from skimage.morphology import binary_erosion, binary_dilation, binary_closing,skeletonize, thin\n",
    "from skimage.measure import find_contours\n",
    "from skimage.draw import rectangle\n",
    "\n",
    "# Show the figures / plots inside the notebook\n",
    "%matplotlib inline\n",
    "%load_ext autoreload\n",
    "%autoreload 2"
   ]
  },
  {
   "cell_type": "code",
   "execution_count": 10,
   "metadata": {},
   "outputs": [],
   "source": [
    "def RGB2binary(img_path,threshold):\n",
    "    img=io.imread(img_path,as_gray=True)\n",
    "    img=np.array(img*255,dtype=np.uint8)\n",
    "    Vimg=np.reshape(img,(img.shape[0]*img.shape[1],1))\n",
    "    Vimg[(Vimg<threshold)]=0\n",
    "    Vimg[(Vimg>=threshold)]=255\n",
    "    img=np.reshape(Vimg,(img.shape[0],img.shape[1]))\n",
    "    return img"
   ]
  },
  {
   "cell_type": "code",
   "execution_count": 11,
   "metadata": {},
   "outputs": [
    {
     "output_type": "error",
     "ename": "NameError",
     "evalue": "name 'np' is not defined",
     "traceback": [
      "\u001b[1;31m---------------------------------------------------------------------------\u001b[0m",
      "\u001b[1;31mNameError\u001b[0m                                 Traceback (most recent call last)",
      "\u001b[1;32m<ipython-input-11-9e3bf1cd84b0>\u001b[0m in \u001b[0;36m<module>\u001b[1;34m\u001b[0m\n\u001b[1;32m----> 1\u001b[1;33m \u001b[1;32mdef\u001b[0m \u001b[0mDilation\u001b[0m\u001b[1;33m(\u001b[0m\u001b[0mimg\u001b[0m\u001b[1;33m,\u001b[0m\u001b[0mwindow\u001b[0m\u001b[1;33m=\u001b[0m\u001b[0mnp\u001b[0m\u001b[1;33m.\u001b[0m\u001b[0mones\u001b[0m\u001b[1;33m(\u001b[0m\u001b[1;33m(\u001b[0m\u001b[1;36m3\u001b[0m\u001b[1;33m,\u001b[0m\u001b[1;36m3\u001b[0m\u001b[1;33m)\u001b[0m\u001b[1;33m)\u001b[0m\u001b[1;33m)\u001b[0m\u001b[1;33m:\u001b[0m\u001b[1;33m\u001b[0m\u001b[1;33m\u001b[0m\u001b[0m\n\u001b[0m\u001b[0;32m      2\u001b[0m     \u001b[0mwindow_height\u001b[0m\u001b[1;33m=\u001b[0m\u001b[0mwindow\u001b[0m\u001b[1;33m.\u001b[0m\u001b[0mshape\u001b[0m\u001b[1;33m[\u001b[0m\u001b[1;36m0\u001b[0m\u001b[1;33m]\u001b[0m\u001b[1;33m\u001b[0m\u001b[1;33m\u001b[0m\u001b[0m\n\u001b[0;32m      3\u001b[0m     \u001b[0mwindow_width\u001b[0m\u001b[1;33m=\u001b[0m\u001b[0mwindow\u001b[0m\u001b[1;33m.\u001b[0m\u001b[0mshape\u001b[0m\u001b[1;33m[\u001b[0m\u001b[1;36m1\u001b[0m\u001b[1;33m]\u001b[0m\u001b[1;33m\u001b[0m\u001b[1;33m\u001b[0m\u001b[0m\n\u001b[0;32m      4\u001b[0m     \u001b[0mcentre_x\u001b[0m\u001b[1;33m=\u001b[0m\u001b[0mint\u001b[0m\u001b[1;33m(\u001b[0m\u001b[0mnp\u001b[0m\u001b[1;33m.\u001b[0m\u001b[0mceil\u001b[0m\u001b[1;33m(\u001b[0m\u001b[0mwindow\u001b[0m\u001b[1;33m.\u001b[0m\u001b[0mshape\u001b[0m\u001b[1;33m[\u001b[0m\u001b[1;36m0\u001b[0m\u001b[1;33m]\u001b[0m\u001b[1;33m/\u001b[0m\u001b[1;36m2\u001b[0m\u001b[1;33m)\u001b[0m\u001b[1;33m)\u001b[0m\u001b[1;33m\u001b[0m\u001b[1;33m\u001b[0m\u001b[0m\n\u001b[0;32m      5\u001b[0m     \u001b[0mcentre_y\u001b[0m\u001b[1;33m=\u001b[0m\u001b[0mint\u001b[0m\u001b[1;33m(\u001b[0m\u001b[0mnp\u001b[0m\u001b[1;33m.\u001b[0m\u001b[0mceil\u001b[0m\u001b[1;33m(\u001b[0m\u001b[0mwindow\u001b[0m\u001b[1;33m.\u001b[0m\u001b[0mshape\u001b[0m\u001b[1;33m[\u001b[0m\u001b[1;36m1\u001b[0m\u001b[1;33m]\u001b[0m\u001b[1;33m/\u001b[0m\u001b[1;36m2\u001b[0m\u001b[1;33m)\u001b[0m\u001b[1;33m)\u001b[0m\u001b[1;33m\u001b[0m\u001b[1;33m\u001b[0m\u001b[0m\n",
      "\u001b[1;31mNameError\u001b[0m: name 'np' is not defined"
     ]
    }
   ],
   "source": [
    "def Dilation(img,window=np.ones((3,3))):\n",
    "    window_height=window.shape[0]\n",
    "    window_width=window.shape[1]\n",
    "    centre_x=int(np.ceil(window.shape[0]/2))\n",
    "    centre_y=int(np.ceil(window.shape[1]/2))\n",
    "    dilated_img=np.copy(img)\n",
    "    for i in range(0,img.shape[0]-window_height+1):\n",
    "        for j in range (0,img.shape[1]-window_width+1):\n",
    "            part=np.array((img[i:window_height+i,j:window_width+j]))\n",
    "            #no need for else because if it doesn't hit then the tageted pixel is for sure equlas 0\n",
    "            if(np.max(part*window)!=0):\n",
    "                dilated_img[i+centre_y-1,j+centre_x-1]=255\n",
    "    return dilated_img"
   ]
  },
  {
   "cell_type": "code",
   "execution_count": null,
   "metadata": {},
   "outputs": [],
   "source": [
    "def Erosion(img,window=np.ones((3,3))):\n",
    "    nonZero=np.count_nonzero(window)\n",
    "    window_height=window.shape[0]\n",
    "    window_width=window.shape[1]\n",
    "    centre_x=int(np.ceil(window.shape[0]/2))\n",
    "    centre_y=int(np.ceil(window.shape[1]/2))\n",
    "    eroded_img=np.copy(img)\n",
    "    for i in range(0,img.shape[0]-window_height+1):\n",
    "        for j in range (0,img.shape[1]-window_width+1):\n",
    "            part=np.array((img[i:window_height+i,j:window_width+j]))\n",
    "            if(np.count_nonzero(part*window)==nonZero):\n",
    "                eroded_img[i+centre_y-1,j+centre_x-1]=255\n",
    "            else:\n",
    "                 eroded_img[i+centre_y-1,j+centre_x-1]=0\n",
    "    return eroded_img"
   ]
  },
  {
   "cell_type": "code",
   "execution_count": null,
   "metadata": {},
   "outputs": [],
   "source": [
    "test=np.ones((3,3))\n",
    "test[0,0]=0\n",
    "test[0,2]=0\n",
    "test[2,0]=0\n",
    "test[2,2]=0\n",
    "print(test)\n",
    "# print(np.ceil(2.5))\n",
    "# test=np.ones((5,5))\n",
    "# test2=np.zeros((5,5))\n",
    "# print(np.max(test2))\n",
    "# test2[0,1]=0\n",
    "# print(test*test2)\n",
    "# test[0,2]=100\n",
    "# print(test)\n",
    "# print(\"#############\")\n",
    "# print(test.shape)\n",
    "# part=np.array((test[0:5,0:5]))\n",
    "# print(part)    "
   ]
  },
  {
   "cell_type": "code",
   "execution_count": 2,
   "metadata": {
    "tags": []
   },
   "outputs": [
    {
     "output_type": "error",
     "ename": "NameError",
     "evalue": "name 'RGB2binary' is not defined",
     "traceback": [
      "\u001b[1;31m---------------------------------------------------------------------------\u001b[0m",
      "\u001b[1;31mNameError\u001b[0m                                 Traceback (most recent call last)",
      "\u001b[1;32m<ipython-input-2-c0873bc38450>\u001b[0m in \u001b[0;36m<module>\u001b[1;34m\u001b[0m\n\u001b[0;32m      2\u001b[0m \u001b[1;31m#threshold of 150 makes most of pixels in the image black\u001b[0m\u001b[1;33m\u001b[0m\u001b[1;33m\u001b[0m\u001b[1;33m\u001b[0m\u001b[0m\n\u001b[0;32m      3\u001b[0m \u001b[1;31m#binary=RGB2binary(\"img/coins.jpg\",150)\u001b[0m\u001b[1;33m\u001b[0m\u001b[1;33m\u001b[0m\u001b[1;33m\u001b[0m\u001b[0m\n\u001b[1;32m----> 4\u001b[1;33m \u001b[0mbinary\u001b[0m\u001b[1;33m=\u001b[0m\u001b[0mRGB2binary\u001b[0m\u001b[1;33m(\u001b[0m\u001b[1;34m\"img/cat.jpg\"\u001b[0m\u001b[1;33m,\u001b[0m\u001b[1;36m150\u001b[0m\u001b[1;33m)\u001b[0m\u001b[1;33m\u001b[0m\u001b[1;33m\u001b[0m\u001b[0m\n\u001b[0m\u001b[0;32m      5\u001b[0m \u001b[1;33m\u001b[0m\u001b[0m\n\u001b[0;32m      6\u001b[0m \u001b[0mio\u001b[0m\u001b[1;33m.\u001b[0m\u001b[0mimshow\u001b[0m\u001b[1;33m(\u001b[0m\u001b[0mbinary\u001b[0m\u001b[1;33m)\u001b[0m\u001b[1;33m\u001b[0m\u001b[1;33m\u001b[0m\u001b[0m\n",
      "\u001b[1;31mNameError\u001b[0m: name 'RGB2binary' is not defined"
     ]
    }
   ],
   "source": [
    "#set threshold to 150 to see that dilation has great effect to expand the 1's in the image and eleminate some zeros \n",
    "#threshold of 150 makes most of pixels in the image black\n",
    "#binary=RGB2binary(\"img/coins.jpg\",150)\n",
    "binary=RGB2binary(\"img/cat.jpg\",150)\n",
    "\n",
    "io.imshow(binary)\n",
    "io.show()\n",
    "##########################################\n",
    "# test cross window with size 3*3\n",
    "window=np.ones((3,3))\n",
    "window[0,0]=0\n",
    "window[0,2]=0\n",
    "window[2,0]=0\n",
    "window[2,2]=0\n",
    "##########################################\n",
    "#test square window with size 5*5\n",
    "window2=np.ones((5,5))\n",
    "##########################################\n",
    "my_dilated=Dilation(binary,window)\n",
    "io.imshow(my_dilated)\n",
    "io.show()\n",
    "###########################################\n",
    "dilated=binary_dilation(binary,selem=window)\n",
    "io.imshow(dilated)\n",
    "io.show()\n",
    "###########################################\n",
    "\n",
    "'''\n",
    "1) Erosion / Dilation:\n",
    "    - Load \"coins.jpg\" from the img folder\n",
    "    - Convert the image to binary\n",
    "    - Write 2 functions each applying 1 of the erosion/dilation algorithms (with adjustable square window size) manually to the      binary image\n",
    "    - Use Skimage's \"binary_erosion\" & \"binary_dilation\" & show the results\n",
    "'''\n"
   ]
  },
  {
   "cell_type": "code",
   "execution_count": null,
   "metadata": {},
   "outputs": [],
   "source": [
    "binary=RGB2binary(\"img/cat.jpg\",105)\n",
    "#binary=RGB2binary(\"img/coins.jpg\",105)\n",
    "io.imshow(binary)\n",
    "io.show()\n",
    "window2=np.ones((5,5))\n",
    "window=np.ones((3,3))\n",
    "window[0,0]=0\n",
    "window[0,2]=0\n",
    "window[2,0]=0\n",
    "window[2,2]=0\n",
    "my_eroded=Erosion(binary,window)\n",
    "io.imshow(my_eroded)\n",
    "io.show()\n",
    "eroded=binary_erosion(binary,selem=window)\n",
    "io.imshow(eroded)\n",
    "io.show()\n"
   ]
  },
  {
   "cell_type": "code",
   "execution_count": null,
   "metadata": {
    "scrolled": false
   },
   "outputs": [],
   "source": [
    "\n",
    "\n",
    "'''\n",
    "2) Case Study: Credit Card Number Extraction\n",
    "    - Load \"card.jpg\" from the img folder\n",
    "    - Convert the image to binary by brightness thresholding maintaining the card number details for extraction\n",
    "    - Use your erosion/dilation functions, or Skimage's functions only if you didn't implement them, to apply closing\n",
    "        Note: The goal of this step is to join the card number into 4 sets of connected pixels\n",
    "    - Use Skimage's \"find_contours\" to get the bounding boxes for the credit card's numbers by filtering on aspect ratio (between 2.5 & 3.5)\n",
    "        Note: When using \"find_contours(img, 0.8)\" the o/p is a list of contours each having:\n",
    "                - contour[:,0] being the Y values of the contour perimeter points\n",
    "                - contour[:,1] being the X values of the contour perimeter points\n",
    "'''\n",
    "binary=RGB2binary(\"img/card.jpg\",70)\n",
    "binary=255-binary\n",
    "\n",
    "binary= Dilation(binary,window=np.ones((12,12)))\n",
    "\n",
    "binary= Erosion(binary,window=np.ones((12,12)))\n",
    "\n",
    "closing=binary\n",
    "bounding_boxes = []\n",
    "boxes=find_contours(binary,0)\n",
    "for box in boxes:\n",
    "    yMax = int(np.max(box[:,0]))\n",
    "    yMin = int(np.min(box[:,0]))\n",
    "    xMax = int(np.max(box[:,1]))\n",
    "    xMin = int(np.min(box[:,1]))\n",
    "    if (xMax-xMin)/(yMax-yMin) > 2.5 and (xMax-xMin)/(yMax-yMin) < 3.5 :\n",
    "        bounding_boxes.append([xMin,xMax,yMin,yMax])\n",
    "\n",
    "\n",
    "img_with_boxes= io.imread(\"img/card.jpg\")\n",
    "#When provided with the correct format of the list of bounding_boxes, this section will set all pixels inside boxes in img_with_boxes\n",
    "for box in bounding_boxes:\n",
    "    [Xmin, Xmax, Ymin, Ymax] = box\n",
    "    rr, cc = rectangle(start = (Ymin,Xmin), end = (Ymax,Xmax), shape=binary.shape)\n",
    "    img_with_boxes[rr,cc] = 255 #set color white\n",
    "show_images([closing,img_with_boxes],['After Closing','Final Output'])"
   ]
  },
  {
   "cell_type": "code",
   "execution_count": null,
   "metadata": {},
   "outputs": [],
   "source": [
    "'''\n",
    "3) Skeletonization:\n",
    "'''\n",
    "#    - Load \"horse.jpg\" from the img folder  \n",
    "img = io.imread(\"./img/horse.jpg\", as_gray = True)\n",
    "io.imshow(img)\n",
    "plt.show()\n",
    "\n",
    "#    - Use a binary threshold of 0.9 to remove invisible noise in the background\n",
    "bin_img = img > 0.9\n",
    "\n",
    "#    - Use Skimage's \"skeletonize(image)\" to acquire the image's skeleton & show it\n",
    "skeleton_img = skeletonize(bin_img)\n",
    "io.imshow(skeleton_img)\n",
    "plt.show()\n",
    "\n",
    "#    - Use Skimage's \"thin(image, max_iter)\" with values of max_iter 5/10/15/20 & show it\n",
    "max_iter = [5, 10, 15, 20] #100\n",
    "imgs = []\n",
    "for it in max_iter:\n",
    "    imgs.append(thin(bin_img, it))\n",
    "show_images(imgs, max_iter)\n"
   ]
  },
  {
   "cell_type": "code",
   "execution_count": null,
   "metadata": {},
   "outputs": [],
   "source": []
  }
 ],
 "metadata": {
  "kernelspec": {
   "display_name": "Python 3",
   "language": "python",
   "name": "python3"
  },
  "language_info": {
   "codemirror_mode": {
    "name": "ipython",
    "version": 3
   },
   "file_extension": ".py",
   "mimetype": "text/x-python",
   "name": "python",
   "nbconvert_exporter": "python",
   "pygments_lexer": "ipython3",
   "version": "3.8.3-final"
  }
 },
 "nbformat": 4,
 "nbformat_minor": 4
}